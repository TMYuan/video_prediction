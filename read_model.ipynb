{
 "cells": [
  {
   "cell_type": "code",
   "execution_count": 1,
   "metadata": {},
   "outputs": [],
   "source": [
    "import torch\n",
    "import torch.optim as optim\n",
    "import torch.nn as nn\n",
    "import argparse\n",
    "import os\n",
    "import random\n",
    "from torch.autograd import Variable\n",
    "from torch.utils.data import DataLoader\n",
    "import utils\n",
    "import numpy as np\n",
    "from scipy.ndimage.filters import gaussian_filter"
   ]
  },
  {
   "cell_type": "code",
   "execution_count": 7,
   "metadata": {},
   "outputs": [
    {
     "data": {
      "text/plain": [
       "decoder(\n",
       "  (upc1): Sequential(\n",
       "    (0): ConvTranspose2d(178, 512, kernel_size=(4, 4), stride=(1, 1))\n",
       "    (1): BatchNorm2d(512, eps=1e-05, momentum=0.1, affine=True, track_running_stats=True)\n",
       "    (2): LeakyReLU(negative_slope=0.2, inplace)\n",
       "  )\n",
       "  (upc2): dcgan_upconv(\n",
       "    (main): Sequential(\n",
       "      (0): ConvTranspose2d(1024, 256, kernel_size=(4, 4), stride=(2, 2), padding=(1, 1))\n",
       "      (1): BatchNorm2d(256, eps=1e-05, momentum=0.1, affine=True, track_running_stats=True)\n",
       "      (2): LeakyReLU(negative_slope=0.2, inplace)\n",
       "    )\n",
       "  )\n",
       "  (upc3): dcgan_upconv(\n",
       "    (main): Sequential(\n",
       "      (0): ConvTranspose2d(512, 128, kernel_size=(4, 4), stride=(2, 2), padding=(1, 1))\n",
       "      (1): BatchNorm2d(128, eps=1e-05, momentum=0.1, affine=True, track_running_stats=True)\n",
       "      (2): LeakyReLU(negative_slope=0.2, inplace)\n",
       "    )\n",
       "  )\n",
       "  (upc4): dcgan_upconv(\n",
       "    (main): Sequential(\n",
       "      (0): ConvTranspose2d(256, 64, kernel_size=(4, 4), stride=(2, 2), padding=(1, 1))\n",
       "      (1): BatchNorm2d(64, eps=1e-05, momentum=0.1, affine=True, track_running_stats=True)\n",
       "      (2): LeakyReLU(negative_slope=0.2, inplace)\n",
       "    )\n",
       "  )\n",
       "  (upc5): Sequential(\n",
       "    (0): ConvTranspose2d(128, 1, kernel_size=(4, 4), stride=(2, 2), padding=(1, 1))\n",
       "    (1): Sigmoid()\n",
       "  )\n",
       ")"
      ]
     },
     "execution_count": 7,
     "metadata": {},
     "output_type": "execute_result"
    }
   ],
   "source": [
    "# ---------------- load the models  ----------------\n",
    "tmp = torch.load('./logs/0121_swapCP/smmnist-2/model=dcgan64x64-rnn_size=256-predictor-posterior-rnn_layers=2-1-n_past=5-n_future=10-lr=0.0002-g_dim=128-z_dim=50-last_frame_skip=0-beta=0.0001000/model.pth')\n",
    "frame_predictor = tmp['frame_predictor']\n",
    "posterior = tmp['posterior']\n",
    "content_lstm = tmp['content_lstm']\n",
    "frame_predictor.eval()\n",
    "content_lstm.eval()\n",
    "posterior.eval()\n",
    "encoder_c = tmp['encoder_c']\n",
    "encoder_p = tmp['encoder_p']\n",
    "decoder = tmp['decoder']\n",
    "encoder_c.train()\n",
    "encoder_p.train()\n",
    "decoder.train()"
   ]
  },
  {
   "cell_type": "code",
   "execution_count": 10,
   "metadata": {},
   "outputs": [],
   "source": [
    "os.mkdir('./figure')\n",
    "torch.save(decoder, './figure/decoder.pth')\n",
    "torch.save(encoder_c, './figure/encoder_c.pth')\n",
    "torch.save(encoder_p, './figure/encoder_p.pth')\n",
    "torch.save(content_lstm, './figure/content_lstm.pth')\n",
    "torch.save(frame_predictor, './figure/frame_predictor.pth')\n",
    "torch.save(posterior, './figure/posterior.pth')"
   ]
  },
  {
   "cell_type": "code",
   "execution_count": null,
   "metadata": {},
   "outputs": [],
   "source": []
  }
 ],
 "metadata": {
  "kernelspec": {
   "display_name": "Python 3",
   "language": "python",
   "name": "python3"
  },
  "language_info": {
   "codemirror_mode": {
    "name": "ipython",
    "version": 3
   },
   "file_extension": ".py",
   "mimetype": "text/x-python",
   "name": "python",
   "nbconvert_exporter": "python",
   "pygments_lexer": "ipython3",
   "version": "3.7.2"
  }
 },
 "nbformat": 4,
 "nbformat_minor": 2
}
